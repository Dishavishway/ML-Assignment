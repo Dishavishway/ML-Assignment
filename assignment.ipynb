{
 "cells": [
  {
   "cell_type": "markdown",
   "id": "8b972051",
   "metadata": {},
   "source": [
    "# ASSIGNMENT"
   ]
  },
  {
   "cell_type": "markdown",
   "id": "2ae6627c",
   "metadata": {},
   "source": [
    "1. [Load the dataset using pandas.](#1)\n",
    "2. [Handle missing values appropriately.](#2)\n",
    "3. [Perform feature engineering (e.g., creating new features from existing ones, encoding categorical variables).](#3)\n",
    "4. [Implement custom Python functions for the following tasks.](#4)\n",
    "    * [Calculate the mean and median age for each occupation.](#5)\n",
    "    * [Create a new column that categorizes income into 'Low', 'Medium', and 'High' based on predefined thresholds.](#6)\n",
    "5. [Scale the numerical features.](#7)\n",
    "6. [Implement a sophisticated classification model (e.g., Random Forest, Gradient Boosting).](#8)\n",
    "7. [Perform hyperparameter tuning using GridSearchCV or RandomizedSearchCV.](#9)\n",
    "8. [Evaluate the model using cross-validation and appropriate metrics (e.g. accuracy, F1-score, ROC-AUC).](#10)"
   ]
  },
  {
   "cell_type": "code",
   "execution_count": 89,
   "id": "77d8a236",
   "metadata": {},
   "outputs": [],
   "source": [
    "import numpy as np\n",
    "import pandas as pd\n",
    "import random\n",
    "import joblib\n",
    "from faker import Faker\n",
    "from sklearn.preprocessing import StandardScaler, MinMaxScaler\n",
    "from sklearn.model_selection import train_test_split, GridSearchCV,cross_val_score\n",
    "from sklearn.ensemble import RandomForestClassifier,GradientBoostingClassifier, VotingClassifier\n",
    "from sklearn.metrics import accuracy_score, classification_report, confusion_matrix"
   ]
  },
  {
   "cell_type": "markdown",
   "id": "d7fd8d57",
   "metadata": {},
   "source": [
    "### Load the dataset using pandas<a id=1></a>"
   ]
  },
  {
   "cell_type": "code",
   "execution_count": 2,
   "id": "1993e5b0",
   "metadata": {},
   "outputs": [],
   "source": [
    "df = pd.read_csv(\"generated_dataset.csv\")"
   ]
  },
  {
   "cell_type": "code",
   "execution_count": 3,
   "id": "634335d9",
   "metadata": {},
   "outputs": [
    {
     "data": {
      "text/html": [
       "<div>\n",
       "<style scoped>\n",
       "    .dataframe tbody tr th:only-of-type {\n",
       "        vertical-align: middle;\n",
       "    }\n",
       "\n",
       "    .dataframe tbody tr th {\n",
       "        vertical-align: top;\n",
       "    }\n",
       "\n",
       "    .dataframe thead th {\n",
       "        text-align: right;\n",
       "    }\n",
       "</style>\n",
       "<table border=\"1\" class=\"dataframe\">\n",
       "  <thead>\n",
       "    <tr style=\"text-align: right;\">\n",
       "      <th></th>\n",
       "      <th>Name</th>\n",
       "      <th>Age</th>\n",
       "      <th>Gender</th>\n",
       "      <th>Occupation</th>\n",
       "      <th>Income</th>\n",
       "      <th>Purchased</th>\n",
       "    </tr>\n",
       "  </thead>\n",
       "  <tbody>\n",
       "    <tr>\n",
       "      <th>0</th>\n",
       "      <td>John</td>\n",
       "      <td>28.0</td>\n",
       "      <td>Female</td>\n",
       "      <td>Lawyer</td>\n",
       "      <td>110644.0</td>\n",
       "      <td>No</td>\n",
       "    </tr>\n",
       "    <tr>\n",
       "      <th>1</th>\n",
       "      <td>Jennifer</td>\n",
       "      <td>25.0</td>\n",
       "      <td>Male</td>\n",
       "      <td>Engineer</td>\n",
       "      <td>76147.0</td>\n",
       "      <td>No</td>\n",
       "    </tr>\n",
       "    <tr>\n",
       "      <th>2</th>\n",
       "      <td>Emily</td>\n",
       "      <td>46.0</td>\n",
       "      <td>Male</td>\n",
       "      <td>NaN</td>\n",
       "      <td>86747.0</td>\n",
       "      <td>Yes</td>\n",
       "    </tr>\n",
       "    <tr>\n",
       "      <th>3</th>\n",
       "      <td>James</td>\n",
       "      <td>43.0</td>\n",
       "      <td>Male</td>\n",
       "      <td>Doctor</td>\n",
       "      <td>93792.0</td>\n",
       "      <td>No</td>\n",
       "    </tr>\n",
       "    <tr>\n",
       "      <th>4</th>\n",
       "      <td>Deborah</td>\n",
       "      <td>31.0</td>\n",
       "      <td>Female</td>\n",
       "      <td>Nurse</td>\n",
       "      <td>67400.0</td>\n",
       "      <td>No</td>\n",
       "    </tr>\n",
       "  </tbody>\n",
       "</table>\n",
       "</div>"
      ],
      "text/plain": [
       "       Name   Age  Gender Occupation    Income Purchased\n",
       "0      John  28.0  Female     Lawyer  110644.0        No\n",
       "1  Jennifer  25.0    Male   Engineer   76147.0        No\n",
       "2     Emily  46.0    Male        NaN   86747.0       Yes\n",
       "3     James  43.0    Male     Doctor   93792.0        No\n",
       "4   Deborah  31.0  Female      Nurse   67400.0        No"
      ]
     },
     "execution_count": 3,
     "metadata": {},
     "output_type": "execute_result"
    }
   ],
   "source": [
    "df.head()"
   ]
  },
  {
   "cell_type": "markdown",
   "id": "e531f21f",
   "metadata": {},
   "source": [
    "### Handle missing values appropriately <a id=2></a>"
   ]
  },
  {
   "cell_type": "code",
   "execution_count": 4,
   "id": "d6ed0abc",
   "metadata": {
    "scrolled": true
   },
   "outputs": [
    {
     "data": {
      "text/plain": [
       "Name          500\n",
       "Age           500\n",
       "Gender        500\n",
       "Occupation    500\n",
       "Income        500\n",
       "Purchased       0\n",
       "dtype: int64"
      ]
     },
     "execution_count": 4,
     "metadata": {},
     "output_type": "execute_result"
    }
   ],
   "source": [
    "df.isnull().sum()"
   ]
  },
  {
   "cell_type": "code",
   "execution_count": 5,
   "id": "dac36950",
   "metadata": {
    "scrolled": true
   },
   "outputs": [
    {
     "name": "stdout",
     "output_type": "stream",
     "text": [
      "<class 'pandas.core.frame.DataFrame'>\n",
      "RangeIndex: 5000 entries, 0 to 4999\n",
      "Data columns (total 6 columns):\n",
      " #   Column      Non-Null Count  Dtype  \n",
      "---  ------      --------------  -----  \n",
      " 0   Name        4500 non-null   object \n",
      " 1   Age         4500 non-null   float64\n",
      " 2   Gender      4500 non-null   object \n",
      " 3   Occupation  4500 non-null   object \n",
      " 4   Income      4500 non-null   float64\n",
      " 5   Purchased   5000 non-null   object \n",
      "dtypes: float64(2), object(4)\n",
      "memory usage: 234.5+ KB\n"
     ]
    }
   ],
   "source": [
    "df.info()"
   ]
  },
  {
   "cell_type": "code",
   "execution_count": 6,
   "id": "4783101a",
   "metadata": {},
   "outputs": [],
   "source": [
    "data = df.drop([\"Name\"], axis =1)"
   ]
  },
  {
   "cell_type": "code",
   "execution_count": 7,
   "id": "87c33432",
   "metadata": {},
   "outputs": [
    {
     "data": {
      "text/html": [
       "<div>\n",
       "<style scoped>\n",
       "    .dataframe tbody tr th:only-of-type {\n",
       "        vertical-align: middle;\n",
       "    }\n",
       "\n",
       "    .dataframe tbody tr th {\n",
       "        vertical-align: top;\n",
       "    }\n",
       "\n",
       "    .dataframe thead th {\n",
       "        text-align: right;\n",
       "    }\n",
       "</style>\n",
       "<table border=\"1\" class=\"dataframe\">\n",
       "  <thead>\n",
       "    <tr style=\"text-align: right;\">\n",
       "      <th></th>\n",
       "      <th>Age</th>\n",
       "      <th>Gender</th>\n",
       "      <th>Occupation</th>\n",
       "      <th>Income</th>\n",
       "      <th>Purchased</th>\n",
       "    </tr>\n",
       "  </thead>\n",
       "  <tbody>\n",
       "    <tr>\n",
       "      <th>0</th>\n",
       "      <td>28.0</td>\n",
       "      <td>Female</td>\n",
       "      <td>Lawyer</td>\n",
       "      <td>110644.0</td>\n",
       "      <td>No</td>\n",
       "    </tr>\n",
       "    <tr>\n",
       "      <th>1</th>\n",
       "      <td>25.0</td>\n",
       "      <td>Male</td>\n",
       "      <td>Engineer</td>\n",
       "      <td>76147.0</td>\n",
       "      <td>No</td>\n",
       "    </tr>\n",
       "    <tr>\n",
       "      <th>2</th>\n",
       "      <td>46.0</td>\n",
       "      <td>Male</td>\n",
       "      <td>NaN</td>\n",
       "      <td>86747.0</td>\n",
       "      <td>Yes</td>\n",
       "    </tr>\n",
       "    <tr>\n",
       "      <th>3</th>\n",
       "      <td>43.0</td>\n",
       "      <td>Male</td>\n",
       "      <td>Doctor</td>\n",
       "      <td>93792.0</td>\n",
       "      <td>No</td>\n",
       "    </tr>\n",
       "    <tr>\n",
       "      <th>4</th>\n",
       "      <td>31.0</td>\n",
       "      <td>Female</td>\n",
       "      <td>Nurse</td>\n",
       "      <td>67400.0</td>\n",
       "      <td>No</td>\n",
       "    </tr>\n",
       "    <tr>\n",
       "      <th>...</th>\n",
       "      <td>...</td>\n",
       "      <td>...</td>\n",
       "      <td>...</td>\n",
       "      <td>...</td>\n",
       "      <td>...</td>\n",
       "    </tr>\n",
       "    <tr>\n",
       "      <th>4995</th>\n",
       "      <td>39.0</td>\n",
       "      <td>Female</td>\n",
       "      <td>Teacher</td>\n",
       "      <td>40296.0</td>\n",
       "      <td>No</td>\n",
       "    </tr>\n",
       "    <tr>\n",
       "      <th>4996</th>\n",
       "      <td>42.0</td>\n",
       "      <td>Male</td>\n",
       "      <td>Artist</td>\n",
       "      <td>56282.0</td>\n",
       "      <td>Yes</td>\n",
       "    </tr>\n",
       "    <tr>\n",
       "      <th>4997</th>\n",
       "      <td>39.0</td>\n",
       "      <td>Male</td>\n",
       "      <td>NaN</td>\n",
       "      <td>NaN</td>\n",
       "      <td>Yes</td>\n",
       "    </tr>\n",
       "    <tr>\n",
       "      <th>4998</th>\n",
       "      <td>42.0</td>\n",
       "      <td>Female</td>\n",
       "      <td>Artist</td>\n",
       "      <td>47805.0</td>\n",
       "      <td>No</td>\n",
       "    </tr>\n",
       "    <tr>\n",
       "      <th>4999</th>\n",
       "      <td>46.0</td>\n",
       "      <td>Male</td>\n",
       "      <td>Lawyer</td>\n",
       "      <td>100365.0</td>\n",
       "      <td>Yes</td>\n",
       "    </tr>\n",
       "  </tbody>\n",
       "</table>\n",
       "<p>5000 rows × 5 columns</p>\n",
       "</div>"
      ],
      "text/plain": [
       "       Age  Gender Occupation    Income Purchased\n",
       "0     28.0  Female     Lawyer  110644.0        No\n",
       "1     25.0    Male   Engineer   76147.0        No\n",
       "2     46.0    Male        NaN   86747.0       Yes\n",
       "3     43.0    Male     Doctor   93792.0        No\n",
       "4     31.0  Female      Nurse   67400.0        No\n",
       "...    ...     ...        ...       ...       ...\n",
       "4995  39.0  Female    Teacher   40296.0        No\n",
       "4996  42.0    Male     Artist   56282.0       Yes\n",
       "4997  39.0    Male        NaN       NaN       Yes\n",
       "4998  42.0  Female     Artist   47805.0        No\n",
       "4999  46.0    Male     Lawyer  100365.0       Yes\n",
       "\n",
       "[5000 rows x 5 columns]"
      ]
     },
     "execution_count": 7,
     "metadata": {},
     "output_type": "execute_result"
    }
   ],
   "source": [
    "data"
   ]
  },
  {
   "cell_type": "code",
   "execution_count": 8,
   "id": "ea947167",
   "metadata": {},
   "outputs": [],
   "source": [
    "numeric_var = ['Age','Income']\n",
    "categoric_var = ['Gender','Occupation']"
   ]
  },
  {
   "cell_type": "code",
   "execution_count": 9,
   "id": "ac0d521f",
   "metadata": {},
   "outputs": [],
   "source": [
    "def col_unique_value(data):\n",
    "    for col in data.columns:\n",
    "        print(col, \":\", data[col].unique())"
   ]
  },
  {
   "cell_type": "code",
   "execution_count": 10,
   "id": "0e138075",
   "metadata": {},
   "outputs": [
    {
     "name": "stdout",
     "output_type": "stream",
     "text": [
      "Age : [28. 25. 46. 43. 31. 53. 50. 42. 26. 27. 52. 45. 47. 23. 57. 38. 48. 36.\n",
      " 24. 49. 40. nan 29. 58. 34. 35. 39. 59. 22. 56. 51. 41. 32. 44. 37. 33.\n",
      " 30. 60. 55. 54.]\n",
      "Gender : ['Female' 'Male' nan]\n",
      "Occupation : ['Lawyer' 'Engineer' nan 'Doctor' 'Nurse' 'Artist' 'Teacher']\n",
      "Income : [110644.  76147.  86747. ...  56282.  47805. 100365.]\n",
      "Purchased : ['No' 'Yes']\n"
     ]
    }
   ],
   "source": [
    "col_unique_value(data)"
   ]
  },
  {
   "cell_type": "code",
   "execution_count": 11,
   "id": "9a336bc7",
   "metadata": {},
   "outputs": [],
   "source": [
    "for i in numeric_var:\n",
    "    data[i]=data[i].fillna(data[i].median())"
   ]
  },
  {
   "cell_type": "code",
   "execution_count": 12,
   "id": "75c3397c",
   "metadata": {},
   "outputs": [
    {
     "name": "stdout",
     "output_type": "stream",
     "text": [
      "Age : [28. 25. 46. 43. 31. 53. 50. 42. 26. 27. 52. 45. 47. 23. 57. 38. 48. 36.\n",
      " 24. 49. 40. 41. 29. 58. 34. 35. 39. 59. 22. 56. 51. 32. 44. 37. 33. 30.\n",
      " 60. 55. 54.]\n",
      "Gender : ['Female' 'Male' nan]\n",
      "Occupation : ['Lawyer' 'Engineer' nan 'Doctor' 'Nurse' 'Artist' 'Teacher']\n",
      "Income : [110644.  76147.  86747. ...  56282.  47805. 100365.]\n",
      "Purchased : ['No' 'Yes']\n"
     ]
    }
   ],
   "source": [
    "col_unique_value(data)"
   ]
  },
  {
   "cell_type": "code",
   "execution_count": 13,
   "id": "ec84495f",
   "metadata": {},
   "outputs": [],
   "source": [
    "for i in categoric_var:\n",
    "    mode_value = data[i].mode()[0]\n",
    "    data[i] = data[i].fillna(mode_value)"
   ]
  },
  {
   "cell_type": "code",
   "execution_count": 14,
   "id": "c33a37c7",
   "metadata": {},
   "outputs": [
    {
     "name": "stdout",
     "output_type": "stream",
     "text": [
      "Age : [28. 25. 46. 43. 31. 53. 50. 42. 26. 27. 52. 45. 47. 23. 57. 38. 48. 36.\n",
      " 24. 49. 40. 41. 29. 58. 34. 35. 39. 59. 22. 56. 51. 32. 44. 37. 33. 30.\n",
      " 60. 55. 54.]\n",
      "Gender : ['Female' 'Male']\n",
      "Occupation : ['Lawyer' 'Engineer' 'Doctor' 'Nurse' 'Artist' 'Teacher']\n",
      "Income : [110644.  76147.  86747. ...  56282.  47805. 100365.]\n",
      "Purchased : ['No' 'Yes']\n"
     ]
    }
   ],
   "source": [
    "col_unique_value(data)"
   ]
  },
  {
   "cell_type": "markdown",
   "id": "7cbf9eae",
   "metadata": {},
   "source": [
    "### Perform feature engineering <a id=3><a/>"
   ]
  },
  {
   "cell_type": "code",
   "execution_count": 15,
   "id": "2efff1b0",
   "metadata": {
    "scrolled": true
   },
   "outputs": [
    {
     "name": "stdout",
     "output_type": "stream",
     "text": [
      "       Age  Gender Occupation    Income Purchased Age_Group\n",
      "0     28.0  Female     Lawyer  110644.0        No       <30\n",
      "1     25.0    Male   Engineer   76147.0        No       <30\n",
      "2     46.0    Male   Engineer   86747.0       Yes     40-49\n",
      "3     43.0    Male     Doctor   93792.0        No     40-49\n",
      "4     31.0  Female      Nurse   67400.0        No     30-39\n",
      "...    ...     ...        ...       ...       ...       ...\n",
      "4995  39.0  Female    Teacher   40296.0        No     30-39\n",
      "4996  42.0    Male     Artist   56282.0       Yes     40-49\n",
      "4997  39.0    Male   Engineer   71714.5       Yes     30-39\n",
      "4998  42.0  Female     Artist   47805.0        No     40-49\n",
      "4999  46.0    Male     Lawyer  100365.0       Yes     40-49\n",
      "\n",
      "[5000 rows x 6 columns]\n"
     ]
    }
   ],
   "source": [
    "bins = [0, 30, 40, 50, 60, np.inf]\n",
    "labels = ['<30', '30-39', '40-49', '50-59', '60+']\n",
    "data['Age_Group'] = pd.cut(data['Age'], bins=bins, labels=labels, right=False)\n",
    "print(data)"
   ]
  },
  {
   "cell_type": "code",
   "execution_count": 16,
   "id": "80d5098e",
   "metadata": {
    "scrolled": true
   },
   "outputs": [
    {
     "name": "stdout",
     "output_type": "stream",
     "text": [
      "Age : [28. 25. 46. 43. 31. 53. 50. 42. 26. 27. 52. 45. 47. 23. 57. 38. 48. 36.\n",
      " 24. 49. 40. 41. 29. 58. 34. 35. 39. 59. 22. 56. 51. 32. 44. 37. 33. 30.\n",
      " 60. 55. 54.]\n",
      "Gender : ['Female' 'Male']\n",
      "Occupation : ['Lawyer' 'Engineer' 'Doctor' 'Nurse' 'Artist' 'Teacher']\n",
      "Income : [110644.  76147.  86747. ...  56282.  47805. 100365.]\n",
      "Purchased : ['No' 'Yes']\n",
      "Age_Group : ['<30', '40-49', '30-39', '50-59', '60+']\n",
      "Categories (5, object): ['<30' < '30-39' < '40-49' < '50-59' < '60+']\n"
     ]
    }
   ],
   "source": [
    "col_unique_value(data)"
   ]
  },
  {
   "cell_type": "code",
   "execution_count": 17,
   "id": "294b03c3",
   "metadata": {},
   "outputs": [
    {
     "data": {
      "text/html": [
       "<div>\n",
       "<style scoped>\n",
       "    .dataframe tbody tr th:only-of-type {\n",
       "        vertical-align: middle;\n",
       "    }\n",
       "\n",
       "    .dataframe tbody tr th {\n",
       "        vertical-align: top;\n",
       "    }\n",
       "\n",
       "    .dataframe thead th {\n",
       "        text-align: right;\n",
       "    }\n",
       "</style>\n",
       "<table border=\"1\" class=\"dataframe\">\n",
       "  <thead>\n",
       "    <tr style=\"text-align: right;\">\n",
       "      <th></th>\n",
       "      <th>Age</th>\n",
       "      <th>Gender</th>\n",
       "      <th>Occupation</th>\n",
       "      <th>Income</th>\n",
       "      <th>Purchased</th>\n",
       "      <th>Age_Group</th>\n",
       "    </tr>\n",
       "  </thead>\n",
       "  <tbody>\n",
       "    <tr>\n",
       "      <th>0</th>\n",
       "      <td>28.0</td>\n",
       "      <td>Female</td>\n",
       "      <td>Lawyer</td>\n",
       "      <td>110644.0</td>\n",
       "      <td>No</td>\n",
       "      <td>&lt;30</td>\n",
       "    </tr>\n",
       "    <tr>\n",
       "      <th>1</th>\n",
       "      <td>25.0</td>\n",
       "      <td>Male</td>\n",
       "      <td>Engineer</td>\n",
       "      <td>76147.0</td>\n",
       "      <td>No</td>\n",
       "      <td>&lt;30</td>\n",
       "    </tr>\n",
       "    <tr>\n",
       "      <th>2</th>\n",
       "      <td>46.0</td>\n",
       "      <td>Male</td>\n",
       "      <td>Engineer</td>\n",
       "      <td>86747.0</td>\n",
       "      <td>Yes</td>\n",
       "      <td>40-49</td>\n",
       "    </tr>\n",
       "    <tr>\n",
       "      <th>3</th>\n",
       "      <td>43.0</td>\n",
       "      <td>Male</td>\n",
       "      <td>Doctor</td>\n",
       "      <td>93792.0</td>\n",
       "      <td>No</td>\n",
       "      <td>40-49</td>\n",
       "    </tr>\n",
       "    <tr>\n",
       "      <th>4</th>\n",
       "      <td>31.0</td>\n",
       "      <td>Female</td>\n",
       "      <td>Nurse</td>\n",
       "      <td>67400.0</td>\n",
       "      <td>No</td>\n",
       "      <td>30-39</td>\n",
       "    </tr>\n",
       "    <tr>\n",
       "      <th>...</th>\n",
       "      <td>...</td>\n",
       "      <td>...</td>\n",
       "      <td>...</td>\n",
       "      <td>...</td>\n",
       "      <td>...</td>\n",
       "      <td>...</td>\n",
       "    </tr>\n",
       "    <tr>\n",
       "      <th>4995</th>\n",
       "      <td>39.0</td>\n",
       "      <td>Female</td>\n",
       "      <td>Teacher</td>\n",
       "      <td>40296.0</td>\n",
       "      <td>No</td>\n",
       "      <td>30-39</td>\n",
       "    </tr>\n",
       "    <tr>\n",
       "      <th>4996</th>\n",
       "      <td>42.0</td>\n",
       "      <td>Male</td>\n",
       "      <td>Artist</td>\n",
       "      <td>56282.0</td>\n",
       "      <td>Yes</td>\n",
       "      <td>40-49</td>\n",
       "    </tr>\n",
       "    <tr>\n",
       "      <th>4997</th>\n",
       "      <td>39.0</td>\n",
       "      <td>Male</td>\n",
       "      <td>Engineer</td>\n",
       "      <td>71714.5</td>\n",
       "      <td>Yes</td>\n",
       "      <td>30-39</td>\n",
       "    </tr>\n",
       "    <tr>\n",
       "      <th>4998</th>\n",
       "      <td>42.0</td>\n",
       "      <td>Female</td>\n",
       "      <td>Artist</td>\n",
       "      <td>47805.0</td>\n",
       "      <td>No</td>\n",
       "      <td>40-49</td>\n",
       "    </tr>\n",
       "    <tr>\n",
       "      <th>4999</th>\n",
       "      <td>46.0</td>\n",
       "      <td>Male</td>\n",
       "      <td>Lawyer</td>\n",
       "      <td>100365.0</td>\n",
       "      <td>Yes</td>\n",
       "      <td>40-49</td>\n",
       "    </tr>\n",
       "  </tbody>\n",
       "</table>\n",
       "<p>5000 rows × 6 columns</p>\n",
       "</div>"
      ],
      "text/plain": [
       "       Age  Gender Occupation    Income Purchased Age_Group\n",
       "0     28.0  Female     Lawyer  110644.0        No       <30\n",
       "1     25.0    Male   Engineer   76147.0        No       <30\n",
       "2     46.0    Male   Engineer   86747.0       Yes     40-49\n",
       "3     43.0    Male     Doctor   93792.0        No     40-49\n",
       "4     31.0  Female      Nurse   67400.0        No     30-39\n",
       "...    ...     ...        ...       ...       ...       ...\n",
       "4995  39.0  Female    Teacher   40296.0        No     30-39\n",
       "4996  42.0    Male     Artist   56282.0       Yes     40-49\n",
       "4997  39.0    Male   Engineer   71714.5       Yes     30-39\n",
       "4998  42.0  Female     Artist   47805.0        No     40-49\n",
       "4999  46.0    Male     Lawyer  100365.0       Yes     40-49\n",
       "\n",
       "[5000 rows x 6 columns]"
      ]
     },
     "execution_count": 17,
     "metadata": {},
     "output_type": "execute_result"
    }
   ],
   "source": [
    "data"
   ]
  },
  {
   "cell_type": "code",
   "execution_count": 18,
   "id": "8a177c62",
   "metadata": {},
   "outputs": [],
   "source": [
    "data = pd.get_dummies(data, columns=['Gender', 'Occupation', 'Age_Group'], drop_first=False)\n",
    "data[\"Purchased\"].replace({\"Yes\":1,\"No\":0},inplace=True)"
   ]
  },
  {
   "cell_type": "code",
   "execution_count": 19,
   "id": "8f4aac2c",
   "metadata": {},
   "outputs": [
    {
     "name": "stdout",
     "output_type": "stream",
     "text": [
      "Age : [28. 25. 46. 43. 31. 53. 50. 42. 26. 27. 52. 45. 47. 23. 57. 38. 48. 36.\n",
      " 24. 49. 40. 41. 29. 58. 34. 35. 39. 59. 22. 56. 51. 32. 44. 37. 33. 30.\n",
      " 60. 55. 54.]\n",
      "Income : [110644.  76147.  86747. ...  56282.  47805. 100365.]\n",
      "Purchased : [0 1]\n",
      "Gender_Female : [1 0]\n",
      "Gender_Male : [0 1]\n",
      "Occupation_Artist : [0 1]\n",
      "Occupation_Doctor : [0 1]\n",
      "Occupation_Engineer : [0 1]\n",
      "Occupation_Lawyer : [1 0]\n",
      "Occupation_Nurse : [0 1]\n",
      "Occupation_Teacher : [0 1]\n",
      "Age_Group_<30 : [1 0]\n",
      "Age_Group_30-39 : [0 1]\n",
      "Age_Group_40-49 : [0 1]\n",
      "Age_Group_50-59 : [0 1]\n",
      "Age_Group_60+ : [0 1]\n"
     ]
    }
   ],
   "source": [
    "col_unique_value(data)"
   ]
  },
  {
   "cell_type": "code",
   "execution_count": 20,
   "id": "36c5591f",
   "metadata": {},
   "outputs": [
    {
     "data": {
      "text/html": [
       "<div>\n",
       "<style scoped>\n",
       "    .dataframe tbody tr th:only-of-type {\n",
       "        vertical-align: middle;\n",
       "    }\n",
       "\n",
       "    .dataframe tbody tr th {\n",
       "        vertical-align: top;\n",
       "    }\n",
       "\n",
       "    .dataframe thead th {\n",
       "        text-align: right;\n",
       "    }\n",
       "</style>\n",
       "<table border=\"1\" class=\"dataframe\">\n",
       "  <thead>\n",
       "    <tr style=\"text-align: right;\">\n",
       "      <th></th>\n",
       "      <th>Age</th>\n",
       "      <th>Income</th>\n",
       "      <th>Purchased</th>\n",
       "      <th>Gender_Female</th>\n",
       "      <th>Gender_Male</th>\n",
       "      <th>Occupation_Artist</th>\n",
       "      <th>Occupation_Doctor</th>\n",
       "      <th>Occupation_Engineer</th>\n",
       "      <th>Occupation_Lawyer</th>\n",
       "      <th>Occupation_Nurse</th>\n",
       "      <th>Occupation_Teacher</th>\n",
       "      <th>Age_Group_&lt;30</th>\n",
       "      <th>Age_Group_30-39</th>\n",
       "      <th>Age_Group_40-49</th>\n",
       "      <th>Age_Group_50-59</th>\n",
       "      <th>Age_Group_60+</th>\n",
       "    </tr>\n",
       "  </thead>\n",
       "  <tbody>\n",
       "    <tr>\n",
       "      <th>0</th>\n",
       "      <td>28.0</td>\n",
       "      <td>110644.0</td>\n",
       "      <td>0</td>\n",
       "      <td>1</td>\n",
       "      <td>0</td>\n",
       "      <td>0</td>\n",
       "      <td>0</td>\n",
       "      <td>0</td>\n",
       "      <td>1</td>\n",
       "      <td>0</td>\n",
       "      <td>0</td>\n",
       "      <td>1</td>\n",
       "      <td>0</td>\n",
       "      <td>0</td>\n",
       "      <td>0</td>\n",
       "      <td>0</td>\n",
       "    </tr>\n",
       "    <tr>\n",
       "      <th>1</th>\n",
       "      <td>25.0</td>\n",
       "      <td>76147.0</td>\n",
       "      <td>0</td>\n",
       "      <td>0</td>\n",
       "      <td>1</td>\n",
       "      <td>0</td>\n",
       "      <td>0</td>\n",
       "      <td>1</td>\n",
       "      <td>0</td>\n",
       "      <td>0</td>\n",
       "      <td>0</td>\n",
       "      <td>1</td>\n",
       "      <td>0</td>\n",
       "      <td>0</td>\n",
       "      <td>0</td>\n",
       "      <td>0</td>\n",
       "    </tr>\n",
       "    <tr>\n",
       "      <th>2</th>\n",
       "      <td>46.0</td>\n",
       "      <td>86747.0</td>\n",
       "      <td>1</td>\n",
       "      <td>0</td>\n",
       "      <td>1</td>\n",
       "      <td>0</td>\n",
       "      <td>0</td>\n",
       "      <td>1</td>\n",
       "      <td>0</td>\n",
       "      <td>0</td>\n",
       "      <td>0</td>\n",
       "      <td>0</td>\n",
       "      <td>0</td>\n",
       "      <td>1</td>\n",
       "      <td>0</td>\n",
       "      <td>0</td>\n",
       "    </tr>\n",
       "    <tr>\n",
       "      <th>3</th>\n",
       "      <td>43.0</td>\n",
       "      <td>93792.0</td>\n",
       "      <td>0</td>\n",
       "      <td>0</td>\n",
       "      <td>1</td>\n",
       "      <td>0</td>\n",
       "      <td>1</td>\n",
       "      <td>0</td>\n",
       "      <td>0</td>\n",
       "      <td>0</td>\n",
       "      <td>0</td>\n",
       "      <td>0</td>\n",
       "      <td>0</td>\n",
       "      <td>1</td>\n",
       "      <td>0</td>\n",
       "      <td>0</td>\n",
       "    </tr>\n",
       "    <tr>\n",
       "      <th>4</th>\n",
       "      <td>31.0</td>\n",
       "      <td>67400.0</td>\n",
       "      <td>0</td>\n",
       "      <td>1</td>\n",
       "      <td>0</td>\n",
       "      <td>0</td>\n",
       "      <td>0</td>\n",
       "      <td>0</td>\n",
       "      <td>0</td>\n",
       "      <td>1</td>\n",
       "      <td>0</td>\n",
       "      <td>0</td>\n",
       "      <td>1</td>\n",
       "      <td>0</td>\n",
       "      <td>0</td>\n",
       "      <td>0</td>\n",
       "    </tr>\n",
       "    <tr>\n",
       "      <th>...</th>\n",
       "      <td>...</td>\n",
       "      <td>...</td>\n",
       "      <td>...</td>\n",
       "      <td>...</td>\n",
       "      <td>...</td>\n",
       "      <td>...</td>\n",
       "      <td>...</td>\n",
       "      <td>...</td>\n",
       "      <td>...</td>\n",
       "      <td>...</td>\n",
       "      <td>...</td>\n",
       "      <td>...</td>\n",
       "      <td>...</td>\n",
       "      <td>...</td>\n",
       "      <td>...</td>\n",
       "      <td>...</td>\n",
       "    </tr>\n",
       "    <tr>\n",
       "      <th>4995</th>\n",
       "      <td>39.0</td>\n",
       "      <td>40296.0</td>\n",
       "      <td>0</td>\n",
       "      <td>1</td>\n",
       "      <td>0</td>\n",
       "      <td>0</td>\n",
       "      <td>0</td>\n",
       "      <td>0</td>\n",
       "      <td>0</td>\n",
       "      <td>0</td>\n",
       "      <td>1</td>\n",
       "      <td>0</td>\n",
       "      <td>1</td>\n",
       "      <td>0</td>\n",
       "      <td>0</td>\n",
       "      <td>0</td>\n",
       "    </tr>\n",
       "    <tr>\n",
       "      <th>4996</th>\n",
       "      <td>42.0</td>\n",
       "      <td>56282.0</td>\n",
       "      <td>1</td>\n",
       "      <td>0</td>\n",
       "      <td>1</td>\n",
       "      <td>1</td>\n",
       "      <td>0</td>\n",
       "      <td>0</td>\n",
       "      <td>0</td>\n",
       "      <td>0</td>\n",
       "      <td>0</td>\n",
       "      <td>0</td>\n",
       "      <td>0</td>\n",
       "      <td>1</td>\n",
       "      <td>0</td>\n",
       "      <td>0</td>\n",
       "    </tr>\n",
       "    <tr>\n",
       "      <th>4997</th>\n",
       "      <td>39.0</td>\n",
       "      <td>71714.5</td>\n",
       "      <td>1</td>\n",
       "      <td>0</td>\n",
       "      <td>1</td>\n",
       "      <td>0</td>\n",
       "      <td>0</td>\n",
       "      <td>1</td>\n",
       "      <td>0</td>\n",
       "      <td>0</td>\n",
       "      <td>0</td>\n",
       "      <td>0</td>\n",
       "      <td>1</td>\n",
       "      <td>0</td>\n",
       "      <td>0</td>\n",
       "      <td>0</td>\n",
       "    </tr>\n",
       "    <tr>\n",
       "      <th>4998</th>\n",
       "      <td>42.0</td>\n",
       "      <td>47805.0</td>\n",
       "      <td>0</td>\n",
       "      <td>1</td>\n",
       "      <td>0</td>\n",
       "      <td>1</td>\n",
       "      <td>0</td>\n",
       "      <td>0</td>\n",
       "      <td>0</td>\n",
       "      <td>0</td>\n",
       "      <td>0</td>\n",
       "      <td>0</td>\n",
       "      <td>0</td>\n",
       "      <td>1</td>\n",
       "      <td>0</td>\n",
       "      <td>0</td>\n",
       "    </tr>\n",
       "    <tr>\n",
       "      <th>4999</th>\n",
       "      <td>46.0</td>\n",
       "      <td>100365.0</td>\n",
       "      <td>1</td>\n",
       "      <td>0</td>\n",
       "      <td>1</td>\n",
       "      <td>0</td>\n",
       "      <td>0</td>\n",
       "      <td>0</td>\n",
       "      <td>1</td>\n",
       "      <td>0</td>\n",
       "      <td>0</td>\n",
       "      <td>0</td>\n",
       "      <td>0</td>\n",
       "      <td>1</td>\n",
       "      <td>0</td>\n",
       "      <td>0</td>\n",
       "    </tr>\n",
       "  </tbody>\n",
       "</table>\n",
       "<p>5000 rows × 16 columns</p>\n",
       "</div>"
      ],
      "text/plain": [
       "       Age    Income  Purchased  Gender_Female  Gender_Male  \\\n",
       "0     28.0  110644.0          0              1            0   \n",
       "1     25.0   76147.0          0              0            1   \n",
       "2     46.0   86747.0          1              0            1   \n",
       "3     43.0   93792.0          0              0            1   \n",
       "4     31.0   67400.0          0              1            0   \n",
       "...    ...       ...        ...            ...          ...   \n",
       "4995  39.0   40296.0          0              1            0   \n",
       "4996  42.0   56282.0          1              0            1   \n",
       "4997  39.0   71714.5          1              0            1   \n",
       "4998  42.0   47805.0          0              1            0   \n",
       "4999  46.0  100365.0          1              0            1   \n",
       "\n",
       "      Occupation_Artist  Occupation_Doctor  Occupation_Engineer  \\\n",
       "0                     0                  0                    0   \n",
       "1                     0                  0                    1   \n",
       "2                     0                  0                    1   \n",
       "3                     0                  1                    0   \n",
       "4                     0                  0                    0   \n",
       "...                 ...                ...                  ...   \n",
       "4995                  0                  0                    0   \n",
       "4996                  1                  0                    0   \n",
       "4997                  0                  0                    1   \n",
       "4998                  1                  0                    0   \n",
       "4999                  0                  0                    0   \n",
       "\n",
       "      Occupation_Lawyer  Occupation_Nurse  Occupation_Teacher  Age_Group_<30  \\\n",
       "0                     1                 0                   0              1   \n",
       "1                     0                 0                   0              1   \n",
       "2                     0                 0                   0              0   \n",
       "3                     0                 0                   0              0   \n",
       "4                     0                 1                   0              0   \n",
       "...                 ...               ...                 ...            ...   \n",
       "4995                  0                 0                   1              0   \n",
       "4996                  0                 0                   0              0   \n",
       "4997                  0                 0                   0              0   \n",
       "4998                  0                 0                   0              0   \n",
       "4999                  1                 0                   0              0   \n",
       "\n",
       "      Age_Group_30-39  Age_Group_40-49  Age_Group_50-59  Age_Group_60+  \n",
       "0                   0                0                0              0  \n",
       "1                   0                0                0              0  \n",
       "2                   0                1                0              0  \n",
       "3                   0                1                0              0  \n",
       "4                   1                0                0              0  \n",
       "...               ...              ...              ...            ...  \n",
       "4995                1                0                0              0  \n",
       "4996                0                1                0              0  \n",
       "4997                1                0                0              0  \n",
       "4998                0                1                0              0  \n",
       "4999                0                1                0              0  \n",
       "\n",
       "[5000 rows x 16 columns]"
      ]
     },
     "execution_count": 20,
     "metadata": {},
     "output_type": "execute_result"
    }
   ],
   "source": [
    "data"
   ]
  },
  {
   "cell_type": "markdown",
   "id": "de9e518f",
   "metadata": {},
   "source": [
    "### Implement custom Python functions for the following tasks: <a id=4></a>"
   ]
  },
  {
   "cell_type": "markdown",
   "id": "68a6279d",
   "metadata": {},
   "source": [
    "#### --> Calculate the mean and median age for each occupation <a id=5></a>"
   ]
  },
  {
   "cell_type": "code",
   "execution_count": 21,
   "id": "d421c297",
   "metadata": {},
   "outputs": [],
   "source": [
    "mean_age = data.groupby(df['Occupation'])['Age'].mean()\n",
    "median_age = data.groupby(df['Occupation'])['Age'].median()"
   ]
  },
  {
   "cell_type": "code",
   "execution_count": 22,
   "id": "938ddb88",
   "metadata": {},
   "outputs": [
    {
     "data": {
      "text/html": [
       "<div>\n",
       "<style scoped>\n",
       "    .dataframe tbody tr th:only-of-type {\n",
       "        vertical-align: middle;\n",
       "    }\n",
       "\n",
       "    .dataframe tbody tr th {\n",
       "        vertical-align: top;\n",
       "    }\n",
       "\n",
       "    .dataframe thead th {\n",
       "        text-align: right;\n",
       "    }\n",
       "</style>\n",
       "<table border=\"1\" class=\"dataframe\">\n",
       "  <thead>\n",
       "    <tr style=\"text-align: right;\">\n",
       "      <th></th>\n",
       "      <th>Mean_Age</th>\n",
       "      <th>Median_Age</th>\n",
       "    </tr>\n",
       "    <tr>\n",
       "      <th>Occupation</th>\n",
       "      <th></th>\n",
       "      <th></th>\n",
       "    </tr>\n",
       "  </thead>\n",
       "  <tbody>\n",
       "    <tr>\n",
       "      <th>Artist</th>\n",
       "      <td>40.984085</td>\n",
       "      <td>41.0</td>\n",
       "    </tr>\n",
       "    <tr>\n",
       "      <th>Doctor</th>\n",
       "      <td>41.803763</td>\n",
       "      <td>41.0</td>\n",
       "    </tr>\n",
       "    <tr>\n",
       "      <th>Engineer</th>\n",
       "      <td>41.212548</td>\n",
       "      <td>41.0</td>\n",
       "    </tr>\n",
       "    <tr>\n",
       "      <th>Lawyer</th>\n",
       "      <td>41.091755</td>\n",
       "      <td>41.0</td>\n",
       "    </tr>\n",
       "    <tr>\n",
       "      <th>Nurse</th>\n",
       "      <td>40.987288</td>\n",
       "      <td>41.0</td>\n",
       "    </tr>\n",
       "    <tr>\n",
       "      <th>Teacher</th>\n",
       "      <td>41.240473</td>\n",
       "      <td>41.0</td>\n",
       "    </tr>\n",
       "  </tbody>\n",
       "</table>\n",
       "</div>"
      ],
      "text/plain": [
       "             Mean_Age  Median_Age\n",
       "Occupation                       \n",
       "Artist      40.984085        41.0\n",
       "Doctor      41.803763        41.0\n",
       "Engineer    41.212548        41.0\n",
       "Lawyer      41.091755        41.0\n",
       "Nurse       40.987288        41.0\n",
       "Teacher     41.240473        41.0"
      ]
     },
     "execution_count": 22,
     "metadata": {},
     "output_type": "execute_result"
    }
   ],
   "source": [
    "age_by_occ = pd.DataFrame({'Mean_Age': mean_age, 'Median_Age': median_age})\n",
    "age_by_occ"
   ]
  },
  {
   "cell_type": "markdown",
   "id": "06985292",
   "metadata": {},
   "source": [
    "#### --> Create a new column that categorizes income into 'Low', 'Medium', and 'High' based on predefined thresholds <a id=6></a>"
   ]
  },
  {
   "cell_type": "code",
   "execution_count": 23,
   "id": "6582bba5",
   "metadata": {},
   "outputs": [
    {
     "data": {
      "text/plain": [
       "count      5000.000000\n",
       "mean      75757.648400\n",
       "std       25153.815114\n",
       "min       35070.000000\n",
       "25%       56836.000000\n",
       "50%       71714.500000\n",
       "75%       90844.750000\n",
       "max      149914.000000\n",
       "Name: Income, dtype: float64"
      ]
     },
     "execution_count": 23,
     "metadata": {},
     "output_type": "execute_result"
    }
   ],
   "source": [
    "data['Income'].describe()"
   ]
  },
  {
   "cell_type": "code",
   "execution_count": 24,
   "id": "e860e677",
   "metadata": {},
   "outputs": [],
   "source": [
    "bins = [35000,70000,100000,150000]\n",
    "labels = [ 'Low','Medium', 'High']\n",
    "data['Income_Category'] = pd.cut(data['Income'], bins=bins, labels=labels, right=False)"
   ]
  },
  {
   "cell_type": "code",
   "execution_count": 27,
   "id": "4bbda039",
   "metadata": {},
   "outputs": [],
   "source": [
    "data = pd.get_dummies(data, columns = ['Income_Category'], drop_first=False)"
   ]
  },
  {
   "cell_type": "code",
   "execution_count": 28,
   "id": "427bb65f",
   "metadata": {},
   "outputs": [
    {
     "data": {
      "text/html": [
       "<div>\n",
       "<style scoped>\n",
       "    .dataframe tbody tr th:only-of-type {\n",
       "        vertical-align: middle;\n",
       "    }\n",
       "\n",
       "    .dataframe tbody tr th {\n",
       "        vertical-align: top;\n",
       "    }\n",
       "\n",
       "    .dataframe thead th {\n",
       "        text-align: right;\n",
       "    }\n",
       "</style>\n",
       "<table border=\"1\" class=\"dataframe\">\n",
       "  <thead>\n",
       "    <tr style=\"text-align: right;\">\n",
       "      <th></th>\n",
       "      <th>Age</th>\n",
       "      <th>Income</th>\n",
       "      <th>Purchased</th>\n",
       "      <th>Gender_Female</th>\n",
       "      <th>Gender_Male</th>\n",
       "      <th>Occupation_Artist</th>\n",
       "      <th>Occupation_Doctor</th>\n",
       "      <th>Occupation_Engineer</th>\n",
       "      <th>Occupation_Lawyer</th>\n",
       "      <th>Occupation_Nurse</th>\n",
       "      <th>Occupation_Teacher</th>\n",
       "      <th>Age_Group_&lt;30</th>\n",
       "      <th>Age_Group_30-39</th>\n",
       "      <th>Age_Group_40-49</th>\n",
       "      <th>Age_Group_50-59</th>\n",
       "      <th>Age_Group_60+</th>\n",
       "      <th>Income_Category_Low</th>\n",
       "      <th>Income_Category_Medium</th>\n",
       "      <th>Income_Category_High</th>\n",
       "    </tr>\n",
       "  </thead>\n",
       "  <tbody>\n",
       "    <tr>\n",
       "      <th>0</th>\n",
       "      <td>28.0</td>\n",
       "      <td>110644.0</td>\n",
       "      <td>0</td>\n",
       "      <td>1</td>\n",
       "      <td>0</td>\n",
       "      <td>0</td>\n",
       "      <td>0</td>\n",
       "      <td>0</td>\n",
       "      <td>1</td>\n",
       "      <td>0</td>\n",
       "      <td>0</td>\n",
       "      <td>1</td>\n",
       "      <td>0</td>\n",
       "      <td>0</td>\n",
       "      <td>0</td>\n",
       "      <td>0</td>\n",
       "      <td>0</td>\n",
       "      <td>0</td>\n",
       "      <td>1</td>\n",
       "    </tr>\n",
       "    <tr>\n",
       "      <th>1</th>\n",
       "      <td>25.0</td>\n",
       "      <td>76147.0</td>\n",
       "      <td>0</td>\n",
       "      <td>0</td>\n",
       "      <td>1</td>\n",
       "      <td>0</td>\n",
       "      <td>0</td>\n",
       "      <td>1</td>\n",
       "      <td>0</td>\n",
       "      <td>0</td>\n",
       "      <td>0</td>\n",
       "      <td>1</td>\n",
       "      <td>0</td>\n",
       "      <td>0</td>\n",
       "      <td>0</td>\n",
       "      <td>0</td>\n",
       "      <td>0</td>\n",
       "      <td>1</td>\n",
       "      <td>0</td>\n",
       "    </tr>\n",
       "    <tr>\n",
       "      <th>2</th>\n",
       "      <td>46.0</td>\n",
       "      <td>86747.0</td>\n",
       "      <td>1</td>\n",
       "      <td>0</td>\n",
       "      <td>1</td>\n",
       "      <td>0</td>\n",
       "      <td>0</td>\n",
       "      <td>1</td>\n",
       "      <td>0</td>\n",
       "      <td>0</td>\n",
       "      <td>0</td>\n",
       "      <td>0</td>\n",
       "      <td>0</td>\n",
       "      <td>1</td>\n",
       "      <td>0</td>\n",
       "      <td>0</td>\n",
       "      <td>0</td>\n",
       "      <td>1</td>\n",
       "      <td>0</td>\n",
       "    </tr>\n",
       "    <tr>\n",
       "      <th>3</th>\n",
       "      <td>43.0</td>\n",
       "      <td>93792.0</td>\n",
       "      <td>0</td>\n",
       "      <td>0</td>\n",
       "      <td>1</td>\n",
       "      <td>0</td>\n",
       "      <td>1</td>\n",
       "      <td>0</td>\n",
       "      <td>0</td>\n",
       "      <td>0</td>\n",
       "      <td>0</td>\n",
       "      <td>0</td>\n",
       "      <td>0</td>\n",
       "      <td>1</td>\n",
       "      <td>0</td>\n",
       "      <td>0</td>\n",
       "      <td>0</td>\n",
       "      <td>1</td>\n",
       "      <td>0</td>\n",
       "    </tr>\n",
       "    <tr>\n",
       "      <th>4</th>\n",
       "      <td>31.0</td>\n",
       "      <td>67400.0</td>\n",
       "      <td>0</td>\n",
       "      <td>1</td>\n",
       "      <td>0</td>\n",
       "      <td>0</td>\n",
       "      <td>0</td>\n",
       "      <td>0</td>\n",
       "      <td>0</td>\n",
       "      <td>1</td>\n",
       "      <td>0</td>\n",
       "      <td>0</td>\n",
       "      <td>1</td>\n",
       "      <td>0</td>\n",
       "      <td>0</td>\n",
       "      <td>0</td>\n",
       "      <td>1</td>\n",
       "      <td>0</td>\n",
       "      <td>0</td>\n",
       "    </tr>\n",
       "  </tbody>\n",
       "</table>\n",
       "</div>"
      ],
      "text/plain": [
       "    Age    Income  Purchased  Gender_Female  Gender_Male  Occupation_Artist  \\\n",
       "0  28.0  110644.0          0              1            0                  0   \n",
       "1  25.0   76147.0          0              0            1                  0   \n",
       "2  46.0   86747.0          1              0            1                  0   \n",
       "3  43.0   93792.0          0              0            1                  0   \n",
       "4  31.0   67400.0          0              1            0                  0   \n",
       "\n",
       "   Occupation_Doctor  Occupation_Engineer  Occupation_Lawyer  \\\n",
       "0                  0                    0                  1   \n",
       "1                  0                    1                  0   \n",
       "2                  0                    1                  0   \n",
       "3                  1                    0                  0   \n",
       "4                  0                    0                  0   \n",
       "\n",
       "   Occupation_Nurse  Occupation_Teacher  Age_Group_<30  Age_Group_30-39  \\\n",
       "0                 0                   0              1                0   \n",
       "1                 0                   0              1                0   \n",
       "2                 0                   0              0                0   \n",
       "3                 0                   0              0                0   \n",
       "4                 1                   0              0                1   \n",
       "\n",
       "   Age_Group_40-49  Age_Group_50-59  Age_Group_60+  Income_Category_Low  \\\n",
       "0                0                0              0                    0   \n",
       "1                0                0              0                    0   \n",
       "2                1                0              0                    0   \n",
       "3                1                0              0                    0   \n",
       "4                0                0              0                    1   \n",
       "\n",
       "   Income_Category_Medium  Income_Category_High  \n",
       "0                       0                     1  \n",
       "1                       1                     0  \n",
       "2                       1                     0  \n",
       "3                       1                     0  \n",
       "4                       0                     0  "
      ]
     },
     "execution_count": 28,
     "metadata": {},
     "output_type": "execute_result"
    }
   ],
   "source": [
    "data.head()"
   ]
  },
  {
   "cell_type": "markdown",
   "id": "938b5ca9",
   "metadata": {},
   "source": [
    "### Scale the numerical features <a id=7></a>"
   ]
  },
  {
   "cell_type": "code",
   "execution_count": 29,
   "id": "56dd7f8e",
   "metadata": {},
   "outputs": [],
   "source": [
    "numeric_var = ['Age','Income']"
   ]
  },
  {
   "cell_type": "code",
   "execution_count": 30,
   "id": "c17e74bb",
   "metadata": {},
   "outputs": [],
   "source": [
    "scaler = MinMaxScaler()"
   ]
  },
  {
   "cell_type": "code",
   "execution_count": 31,
   "id": "80f87c63",
   "metadata": {},
   "outputs": [],
   "source": [
    "data[numeric_var] = scaler.fit_transform(data[numeric_var])"
   ]
  },
  {
   "cell_type": "code",
   "execution_count": 32,
   "id": "8a0c3525",
   "metadata": {},
   "outputs": [
    {
     "name": "stdout",
     "output_type": "stream",
     "text": [
      "Age : [0.15789474 0.07894737 0.63157895 0.55263158 0.23684211 0.81578947\n",
      " 0.73684211 0.52631579 0.10526316 0.13157895 0.78947368 0.60526316\n",
      " 0.65789474 0.02631579 0.92105263 0.42105263 0.68421053 0.36842105\n",
      " 0.05263158 0.71052632 0.47368421 0.5        0.18421053 0.94736842\n",
      " 0.31578947 0.34210526 0.44736842 0.97368421 0.         0.89473684\n",
      " 0.76315789 0.26315789 0.57894737 0.39473684 0.28947368 0.21052632\n",
      " 1.         0.86842105 0.84210526]\n",
      "Income : [0.65805789 0.3576765  0.44997562 ... 0.18470273 0.11088955 0.56855386]\n",
      "Purchased : [0 1]\n",
      "Gender_Female : [1 0]\n",
      "Gender_Male : [0 1]\n",
      "Occupation_Artist : [0 1]\n",
      "Occupation_Doctor : [0 1]\n",
      "Occupation_Engineer : [0 1]\n",
      "Occupation_Lawyer : [1 0]\n",
      "Occupation_Nurse : [0 1]\n",
      "Occupation_Teacher : [0 1]\n",
      "Age_Group_<30 : [1 0]\n",
      "Age_Group_30-39 : [0 1]\n",
      "Age_Group_40-49 : [0 1]\n",
      "Age_Group_50-59 : [0 1]\n",
      "Age_Group_60+ : [0 1]\n",
      "Income_Category_Low : [0 1]\n",
      "Income_Category_Medium : [0 1]\n",
      "Income_Category_High : [1 0]\n"
     ]
    }
   ],
   "source": [
    "col_unique_value(data)"
   ]
  },
  {
   "cell_type": "markdown",
   "id": "2f4df025",
   "metadata": {},
   "source": [
    "### Implement a sophisticated classification model <a id=8></a>"
   ]
  },
  {
   "cell_type": "code",
   "execution_count": 35,
   "id": "4ff40d90",
   "metadata": {},
   "outputs": [],
   "source": [
    "X = data.drop([\"Purchased\"], axis =1)\n",
    "y = data[\"Purchased\"]"
   ]
  },
  {
   "cell_type": "code",
   "execution_count": 36,
   "id": "d94fa372",
   "metadata": {
    "scrolled": true
   },
   "outputs": [],
   "source": [
    "X_train, X_test, y_train, y_test = train_test_split(X, y, test_size=0.25,random_state=42)"
   ]
  },
  {
   "cell_type": "code",
   "execution_count": 37,
   "id": "af5434bf",
   "metadata": {},
   "outputs": [
    {
     "data": {
      "text/plain": [
       "((3750, 18), (3750,), (1250, 18), (1250,))"
      ]
     },
     "execution_count": 37,
     "metadata": {},
     "output_type": "execute_result"
    }
   ],
   "source": [
    "X_train.shape, y_train.shape , X_test.shape , y_test.shape"
   ]
  },
  {
   "cell_type": "markdown",
   "id": "b84dd940",
   "metadata": {},
   "source": [
    "### Perform hyperparameter tuning using GridSearchCV or RandomizedSearchCV <a id=9></a>"
   ]
  },
  {
   "cell_type": "code",
   "execution_count": 49,
   "id": "12712415",
   "metadata": {},
   "outputs": [],
   "source": [
    "rf_grid = { 'n_estimators': [100, 200], 'max_depth': [None, 10, 20], 'min_samples_split': [2, 5], 'min_samples_leaf': [1, 2], \n",
    "                 'max_features': ['sqrt', 'log2']}"
   ]
  },
  {
   "cell_type": "code",
   "execution_count": 54,
   "id": "b109054e",
   "metadata": {},
   "outputs": [
    {
     "name": "stdout",
     "output_type": "stream",
     "text": [
      "Fitting 3 folds for each of 48 candidates, totalling 144 fits\n"
     ]
    },
    {
     "data": {
      "text/html": [
       "<style>#sk-container-id-7 {color: black;}#sk-container-id-7 pre{padding: 0;}#sk-container-id-7 div.sk-toggleable {background-color: white;}#sk-container-id-7 label.sk-toggleable__label {cursor: pointer;display: block;width: 100%;margin-bottom: 0;padding: 0.3em;box-sizing: border-box;text-align: center;}#sk-container-id-7 label.sk-toggleable__label-arrow:before {content: \"▸\";float: left;margin-right: 0.25em;color: #696969;}#sk-container-id-7 label.sk-toggleable__label-arrow:hover:before {color: black;}#sk-container-id-7 div.sk-estimator:hover label.sk-toggleable__label-arrow:before {color: black;}#sk-container-id-7 div.sk-toggleable__content {max-height: 0;max-width: 0;overflow: hidden;text-align: left;background-color: #f0f8ff;}#sk-container-id-7 div.sk-toggleable__content pre {margin: 0.2em;color: black;border-radius: 0.25em;background-color: #f0f8ff;}#sk-container-id-7 input.sk-toggleable__control:checked~div.sk-toggleable__content {max-height: 200px;max-width: 100%;overflow: auto;}#sk-container-id-7 input.sk-toggleable__control:checked~label.sk-toggleable__label-arrow:before {content: \"▾\";}#sk-container-id-7 div.sk-estimator input.sk-toggleable__control:checked~label.sk-toggleable__label {background-color: #d4ebff;}#sk-container-id-7 div.sk-label input.sk-toggleable__control:checked~label.sk-toggleable__label {background-color: #d4ebff;}#sk-container-id-7 input.sk-hidden--visually {border: 0;clip: rect(1px 1px 1px 1px);clip: rect(1px, 1px, 1px, 1px);height: 1px;margin: -1px;overflow: hidden;padding: 0;position: absolute;width: 1px;}#sk-container-id-7 div.sk-estimator {font-family: monospace;background-color: #f0f8ff;border: 1px dotted black;border-radius: 0.25em;box-sizing: border-box;margin-bottom: 0.5em;}#sk-container-id-7 div.sk-estimator:hover {background-color: #d4ebff;}#sk-container-id-7 div.sk-parallel-item::after {content: \"\";width: 100%;border-bottom: 1px solid gray;flex-grow: 1;}#sk-container-id-7 div.sk-label:hover label.sk-toggleable__label {background-color: #d4ebff;}#sk-container-id-7 div.sk-serial::before {content: \"\";position: absolute;border-left: 1px solid gray;box-sizing: border-box;top: 0;bottom: 0;left: 50%;z-index: 0;}#sk-container-id-7 div.sk-serial {display: flex;flex-direction: column;align-items: center;background-color: white;padding-right: 0.2em;padding-left: 0.2em;position: relative;}#sk-container-id-7 div.sk-item {position: relative;z-index: 1;}#sk-container-id-7 div.sk-parallel {display: flex;align-items: stretch;justify-content: center;background-color: white;position: relative;}#sk-container-id-7 div.sk-item::before, #sk-container-id-7 div.sk-parallel-item::before {content: \"\";position: absolute;border-left: 1px solid gray;box-sizing: border-box;top: 0;bottom: 0;left: 50%;z-index: -1;}#sk-container-id-7 div.sk-parallel-item {display: flex;flex-direction: column;z-index: 1;position: relative;background-color: white;}#sk-container-id-7 div.sk-parallel-item:first-child::after {align-self: flex-end;width: 50%;}#sk-container-id-7 div.sk-parallel-item:last-child::after {align-self: flex-start;width: 50%;}#sk-container-id-7 div.sk-parallel-item:only-child::after {width: 0;}#sk-container-id-7 div.sk-dashed-wrapped {border: 1px dashed gray;margin: 0 0.4em 0.5em 0.4em;box-sizing: border-box;padding-bottom: 0.4em;background-color: white;}#sk-container-id-7 div.sk-label label {font-family: monospace;font-weight: bold;display: inline-block;line-height: 1.2em;}#sk-container-id-7 div.sk-label-container {text-align: center;}#sk-container-id-7 div.sk-container {/* jupyter's `normalize.less` sets `[hidden] { display: none; }` but bootstrap.min.css set `[hidden] { display: none !important; }` so we also need the `!important` here to be able to override the default hidden behavior on the sphinx rendered scikit-learn.org. See: https://github.com/scikit-learn/scikit-learn/issues/21755 */display: inline-block !important;position: relative;}#sk-container-id-7 div.sk-text-repr-fallback {display: none;}</style><div id=\"sk-container-id-7\" class=\"sk-top-container\"><div class=\"sk-text-repr-fallback\"><pre>GridSearchCV(cv=3, estimator=RandomForestClassifier(), n_jobs=-1,\n",
       "             param_grid={&#x27;max_depth&#x27;: [None, 10, 20],\n",
       "                         &#x27;max_features&#x27;: [&#x27;sqrt&#x27;, &#x27;log2&#x27;],\n",
       "                         &#x27;min_samples_leaf&#x27;: [1, 2],\n",
       "                         &#x27;min_samples_split&#x27;: [2, 5],\n",
       "                         &#x27;n_estimators&#x27;: [100, 200]},\n",
       "             verbose=2)</pre><b>In a Jupyter environment, please rerun this cell to show the HTML representation or trust the notebook. <br />On GitHub, the HTML representation is unable to render, please try loading this page with nbviewer.org.</b></div><div class=\"sk-container\" hidden><div class=\"sk-item sk-dashed-wrapped\"><div class=\"sk-label-container\"><div class=\"sk-label sk-toggleable\"><input class=\"sk-toggleable__control sk-hidden--visually\" id=\"sk-estimator-id-11\" type=\"checkbox\" ><label for=\"sk-estimator-id-11\" class=\"sk-toggleable__label sk-toggleable__label-arrow\">GridSearchCV</label><div class=\"sk-toggleable__content\"><pre>GridSearchCV(cv=3, estimator=RandomForestClassifier(), n_jobs=-1,\n",
       "             param_grid={&#x27;max_depth&#x27;: [None, 10, 20],\n",
       "                         &#x27;max_features&#x27;: [&#x27;sqrt&#x27;, &#x27;log2&#x27;],\n",
       "                         &#x27;min_samples_leaf&#x27;: [1, 2],\n",
       "                         &#x27;min_samples_split&#x27;: [2, 5],\n",
       "                         &#x27;n_estimators&#x27;: [100, 200]},\n",
       "             verbose=2)</pre></div></div></div><div class=\"sk-parallel\"><div class=\"sk-parallel-item\"><div class=\"sk-item\"><div class=\"sk-label-container\"><div class=\"sk-label sk-toggleable\"><input class=\"sk-toggleable__control sk-hidden--visually\" id=\"sk-estimator-id-12\" type=\"checkbox\" ><label for=\"sk-estimator-id-12\" class=\"sk-toggleable__label sk-toggleable__label-arrow\">estimator: RandomForestClassifier</label><div class=\"sk-toggleable__content\"><pre>RandomForestClassifier()</pre></div></div></div><div class=\"sk-serial\"><div class=\"sk-item\"><div class=\"sk-estimator sk-toggleable\"><input class=\"sk-toggleable__control sk-hidden--visually\" id=\"sk-estimator-id-13\" type=\"checkbox\" ><label for=\"sk-estimator-id-13\" class=\"sk-toggleable__label sk-toggleable__label-arrow\">RandomForestClassifier</label><div class=\"sk-toggleable__content\"><pre>RandomForestClassifier()</pre></div></div></div></div></div></div></div></div></div></div>"
      ],
      "text/plain": [
       "GridSearchCV(cv=3, estimator=RandomForestClassifier(), n_jobs=-1,\n",
       "             param_grid={'max_depth': [None, 10, 20],\n",
       "                         'max_features': ['sqrt', 'log2'],\n",
       "                         'min_samples_leaf': [1, 2],\n",
       "                         'min_samples_split': [2, 5],\n",
       "                         'n_estimators': [100, 200]},\n",
       "             verbose=2)"
      ]
     },
     "execution_count": 54,
     "metadata": {},
     "output_type": "execute_result"
    }
   ],
   "source": [
    "grid_search_rf = GridSearchCV(estimator=RandomForestClassifier(), param_grid=rf_grid, cv=3, n_jobs=-1, verbose=2)\n",
    "grid_search_rf.fit(X_train, y_train)"
   ]
  },
  {
   "cell_type": "code",
   "execution_count": 56,
   "id": "9aad68bd",
   "metadata": {},
   "outputs": [],
   "source": [
    "best_rf = grid_search_rf.best_estimator_"
   ]
  },
  {
   "cell_type": "code",
   "execution_count": 58,
   "id": "06c27228",
   "metadata": {},
   "outputs": [
    {
     "data": {
      "text/html": [
       "<style>#sk-container-id-10 {color: black;}#sk-container-id-10 pre{padding: 0;}#sk-container-id-10 div.sk-toggleable {background-color: white;}#sk-container-id-10 label.sk-toggleable__label {cursor: pointer;display: block;width: 100%;margin-bottom: 0;padding: 0.3em;box-sizing: border-box;text-align: center;}#sk-container-id-10 label.sk-toggleable__label-arrow:before {content: \"▸\";float: left;margin-right: 0.25em;color: #696969;}#sk-container-id-10 label.sk-toggleable__label-arrow:hover:before {color: black;}#sk-container-id-10 div.sk-estimator:hover label.sk-toggleable__label-arrow:before {color: black;}#sk-container-id-10 div.sk-toggleable__content {max-height: 0;max-width: 0;overflow: hidden;text-align: left;background-color: #f0f8ff;}#sk-container-id-10 div.sk-toggleable__content pre {margin: 0.2em;color: black;border-radius: 0.25em;background-color: #f0f8ff;}#sk-container-id-10 input.sk-toggleable__control:checked~div.sk-toggleable__content {max-height: 200px;max-width: 100%;overflow: auto;}#sk-container-id-10 input.sk-toggleable__control:checked~label.sk-toggleable__label-arrow:before {content: \"▾\";}#sk-container-id-10 div.sk-estimator input.sk-toggleable__control:checked~label.sk-toggleable__label {background-color: #d4ebff;}#sk-container-id-10 div.sk-label input.sk-toggleable__control:checked~label.sk-toggleable__label {background-color: #d4ebff;}#sk-container-id-10 input.sk-hidden--visually {border: 0;clip: rect(1px 1px 1px 1px);clip: rect(1px, 1px, 1px, 1px);height: 1px;margin: -1px;overflow: hidden;padding: 0;position: absolute;width: 1px;}#sk-container-id-10 div.sk-estimator {font-family: monospace;background-color: #f0f8ff;border: 1px dotted black;border-radius: 0.25em;box-sizing: border-box;margin-bottom: 0.5em;}#sk-container-id-10 div.sk-estimator:hover {background-color: #d4ebff;}#sk-container-id-10 div.sk-parallel-item::after {content: \"\";width: 100%;border-bottom: 1px solid gray;flex-grow: 1;}#sk-container-id-10 div.sk-label:hover label.sk-toggleable__label {background-color: #d4ebff;}#sk-container-id-10 div.sk-serial::before {content: \"\";position: absolute;border-left: 1px solid gray;box-sizing: border-box;top: 0;bottom: 0;left: 50%;z-index: 0;}#sk-container-id-10 div.sk-serial {display: flex;flex-direction: column;align-items: center;background-color: white;padding-right: 0.2em;padding-left: 0.2em;position: relative;}#sk-container-id-10 div.sk-item {position: relative;z-index: 1;}#sk-container-id-10 div.sk-parallel {display: flex;align-items: stretch;justify-content: center;background-color: white;position: relative;}#sk-container-id-10 div.sk-item::before, #sk-container-id-10 div.sk-parallel-item::before {content: \"\";position: absolute;border-left: 1px solid gray;box-sizing: border-box;top: 0;bottom: 0;left: 50%;z-index: -1;}#sk-container-id-10 div.sk-parallel-item {display: flex;flex-direction: column;z-index: 1;position: relative;background-color: white;}#sk-container-id-10 div.sk-parallel-item:first-child::after {align-self: flex-end;width: 50%;}#sk-container-id-10 div.sk-parallel-item:last-child::after {align-self: flex-start;width: 50%;}#sk-container-id-10 div.sk-parallel-item:only-child::after {width: 0;}#sk-container-id-10 div.sk-dashed-wrapped {border: 1px dashed gray;margin: 0 0.4em 0.5em 0.4em;box-sizing: border-box;padding-bottom: 0.4em;background-color: white;}#sk-container-id-10 div.sk-label label {font-family: monospace;font-weight: bold;display: inline-block;line-height: 1.2em;}#sk-container-id-10 div.sk-label-container {text-align: center;}#sk-container-id-10 div.sk-container {/* jupyter's `normalize.less` sets `[hidden] { display: none; }` but bootstrap.min.css set `[hidden] { display: none !important; }` so we also need the `!important` here to be able to override the default hidden behavior on the sphinx rendered scikit-learn.org. See: https://github.com/scikit-learn/scikit-learn/issues/21755 */display: inline-block !important;position: relative;}#sk-container-id-10 div.sk-text-repr-fallback {display: none;}</style><div id=\"sk-container-id-10\" class=\"sk-top-container\"><div class=\"sk-text-repr-fallback\"><pre>RandomForestClassifier(max_depth=10)</pre><b>In a Jupyter environment, please rerun this cell to show the HTML representation or trust the notebook. <br />On GitHub, the HTML representation is unable to render, please try loading this page with nbviewer.org.</b></div><div class=\"sk-container\" hidden><div class=\"sk-item\"><div class=\"sk-estimator sk-toggleable\"><input class=\"sk-toggleable__control sk-hidden--visually\" id=\"sk-estimator-id-18\" type=\"checkbox\" checked><label for=\"sk-estimator-id-18\" class=\"sk-toggleable__label sk-toggleable__label-arrow\">RandomForestClassifier</label><div class=\"sk-toggleable__content\"><pre>RandomForestClassifier(max_depth=10)</pre></div></div></div></div></div>"
      ],
      "text/plain": [
       "RandomForestClassifier(max_depth=10)"
      ]
     },
     "execution_count": 58,
     "metadata": {},
     "output_type": "execute_result"
    }
   ],
   "source": [
    "best_rf.fit(X_train, y_train)"
   ]
  },
  {
   "cell_type": "code",
   "execution_count": 60,
   "id": "b6d0eef3",
   "metadata": {},
   "outputs": [
    {
     "name": "stdout",
     "output_type": "stream",
     "text": [
      "Best Random Forest Accuracy: 0.5104\n"
     ]
    }
   ],
   "source": [
    "y_pred_rf = best_rf.predict(X_test)\n",
    "accuracy_rf = accuracy_score(y_test, y_pred_rf)\n",
    "print(f\"Best Random Forest Accuracy: {accuracy_rf}\")"
   ]
  },
  {
   "cell_type": "markdown",
   "id": "1754a429",
   "metadata": {},
   "source": [
    "### Evaluate the model <a id=10></a>"
   ]
  },
  {
   "cell_type": "code",
   "execution_count": 64,
   "id": "f63f44b7",
   "metadata": {},
   "outputs": [
    {
     "name": "stdout",
     "output_type": "stream",
     "text": [
      "              precision    recall  f1-score   support\n",
      "\n",
      "           0       0.50      0.60      0.54       608\n",
      "           1       0.53      0.42      0.47       642\n",
      "\n",
      "    accuracy                           0.51      1250\n",
      "   macro avg       0.51      0.51      0.51      1250\n",
      "weighted avg       0.51      0.51      0.51      1250\n",
      "\n",
      "[[366 242]\n",
      " [370 272]]\n"
     ]
    }
   ],
   "source": [
    "print(classification_report(y_test, y_pred_rf))\n",
    "print(confusion_matrix(y_test, y_pred_rf))"
   ]
  },
  {
   "cell_type": "code",
   "execution_count": 90,
   "id": "e068d651",
   "metadata": {},
   "outputs": [
    {
     "name": "stdout",
     "output_type": "stream",
     "text": [
      "Cross-Validation [0.49333333 0.44533333 0.50933333 0.49333333 0.51333333]\n",
      "Mean 0.49093333333333333\n"
     ]
    }
   ],
   "source": [
    "cv_scores = cross_val_score(best_rf, X_train, y_train)\n",
    "print(\"Cross-Validation\", cv_scores)\n",
    "print(\"Mean\", np.mean(cv_scores))"
   ]
  },
  {
   "cell_type": "code",
   "execution_count": 65,
   "id": "c9fc1fb0",
   "metadata": {
    "scrolled": true
   },
   "outputs": [
    {
     "data": {
      "text/plain": [
       "['model.pkl']"
      ]
     },
     "execution_count": 65,
     "metadata": {},
     "output_type": "execute_result"
    }
   ],
   "source": [
    "joblib.dump(voting_clf, 'model.pkl')"
   ]
  },
  {
   "cell_type": "markdown",
   "id": "dd81d193",
   "metadata": {},
   "source": [
    "### Accuracy on train data"
   ]
  },
  {
   "cell_type": "code",
   "execution_count": 66,
   "id": "043f2f1e",
   "metadata": {},
   "outputs": [
    {
     "name": "stdout",
     "output_type": "stream",
     "text": [
      " Accuracy on training data: 0.9685333333333334\n"
     ]
    }
   ],
   "source": [
    "y_train_pre = voting_clf.predict(X_train)\n",
    "accuracy = accuracy_score(y_train, y_train_pre)\n",
    "print(f\" Accuracy on training data: {accuracy}\")"
   ]
  },
  {
   "cell_type": "code",
   "execution_count": 74,
   "id": "62759a55",
   "metadata": {},
   "outputs": [
    {
     "data": {
      "text/html": [
       "<div>\n",
       "<style scoped>\n",
       "    .dataframe tbody tr th:only-of-type {\n",
       "        vertical-align: middle;\n",
       "    }\n",
       "\n",
       "    .dataframe tbody tr th {\n",
       "        vertical-align: top;\n",
       "    }\n",
       "\n",
       "    .dataframe thead th {\n",
       "        text-align: right;\n",
       "    }\n",
       "</style>\n",
       "<table border=\"1\" class=\"dataframe\">\n",
       "  <thead>\n",
       "    <tr style=\"text-align: right;\">\n",
       "      <th></th>\n",
       "      <th>Age</th>\n",
       "      <th>Income</th>\n",
       "      <th>Gender_Female</th>\n",
       "      <th>Gender_Male</th>\n",
       "      <th>Occupation_Artist</th>\n",
       "      <th>Occupation_Doctor</th>\n",
       "      <th>Occupation_Engineer</th>\n",
       "      <th>Occupation_Lawyer</th>\n",
       "      <th>Occupation_Nurse</th>\n",
       "      <th>Occupation_Teacher</th>\n",
       "      <th>Age_Group_&lt;30</th>\n",
       "      <th>Age_Group_30-39</th>\n",
       "      <th>Age_Group_40-49</th>\n",
       "      <th>Age_Group_50-59</th>\n",
       "      <th>Age_Group_60+</th>\n",
       "      <th>Income_Category_Low</th>\n",
       "      <th>Income_Category_Medium</th>\n",
       "      <th>Income_Category_High</th>\n",
       "    </tr>\n",
       "  </thead>\n",
       "  <tbody>\n",
       "    <tr>\n",
       "      <th>0</th>\n",
       "      <td>35</td>\n",
       "      <td>85000</td>\n",
       "      <td>1</td>\n",
       "      <td>0</td>\n",
       "      <td>0</td>\n",
       "      <td>0</td>\n",
       "      <td>1</td>\n",
       "      <td>0</td>\n",
       "      <td>0</td>\n",
       "      <td>0</td>\n",
       "      <td>0</td>\n",
       "      <td>1</td>\n",
       "      <td>0</td>\n",
       "      <td>0</td>\n",
       "      <td>0</td>\n",
       "      <td>0</td>\n",
       "      <td>1</td>\n",
       "      <td>0</td>\n",
       "    </tr>\n",
       "  </tbody>\n",
       "</table>\n",
       "</div>"
      ],
      "text/plain": [
       "   Age  Income  Gender_Female  Gender_Male  Occupation_Artist  \\\n",
       "0   35   85000              1            0                  0   \n",
       "\n",
       "   Occupation_Doctor  Occupation_Engineer  Occupation_Lawyer  \\\n",
       "0                  0                    1                  0   \n",
       "\n",
       "   Occupation_Nurse  Occupation_Teacher  Age_Group_<30  Age_Group_30-39  \\\n",
       "0                 0                   0              0                1   \n",
       "\n",
       "   Age_Group_40-49  Age_Group_50-59  Age_Group_60+  Income_Category_Low  \\\n",
       "0                0                0              0                    0   \n",
       "\n",
       "   Income_Category_Medium  Income_Category_High  \n",
       "0                       1                     0  "
      ]
     },
     "execution_count": 74,
     "metadata": {},
     "output_type": "execute_result"
    }
   ],
   "source": [
    "import numpy as np\n",
    "import pandas as pd\n",
    "import random\n",
    "import joblib\n",
    "from faker import Faker\n",
    "from sklearn.preprocessing import StandardScaler\n",
    "from sklearn.model_selection import train_test_split, GridSearchCV\n",
    "from sklearn.ensemble import RandomForestClassifier, GradientBoostingClassifier, VotingClassifier\n",
    "from sklearn.metrics import accuracy_score, classification_report, confusion_matrix\n",
    "\n",
    "def preprocess_input(input_data):\n",
    "    df = pd.DataFrame([input_data])\n",
    "    df = df.drop([\"Name\"], axis =1)\n",
    "\n",
    "    age_bins = [0, 30, 40, 50, 60, np.inf]\n",
    "    age_labels = ['<30', '30-39', '40-49', '50-59', '60+']\n",
    "    df['Age_Group'] = pd.cut(df['Age'], bins=age_bins, labels=age_labels, right=False)\n",
    "\n",
    "    income_bins = [35000, 70000, 100000, 150000]\n",
    "    income_labels = ['Low', 'Medium', 'High']\n",
    "    df['Income_Category'] = pd.cut(df['Income'], bins=income_bins, labels=income_labels, right=False)\n",
    "\n",
    "    df = pd.get_dummies(df, columns=['Gender', 'Occupation', 'Age_Group', 'Income_Category'], drop_first=False)\n",
    "    \n",
    "    expected_columns = [\n",
    "        'Age', 'Income', 'Gender_Female', 'Gender_Male', \n",
    "        'Occupation_Artist', 'Occupation_Doctor', 'Occupation_Engineer',\n",
    "        'Occupation_Lawyer', 'Occupation_Nurse', 'Occupation_Teacher', \n",
    "        'Age_Group_<30', 'Age_Group_30-39', 'Age_Group_40-49', \n",
    "        'Age_Group_50-59', 'Age_Group_60+', 'Income_Category_Low',\n",
    "        'Income_Category_Medium', 'Income_Category_High'\n",
    "    ]\n",
    "    for col in expected_columns:\n",
    "        if col not in df.columns:\n",
    "            df[col] = 0\n",
    "    df = df[expected_columns]\n",
    "    \n",
    "    return df\n",
    "\n",
    "input_data = {'Name': 'Disha', 'Age': 35, 'Gender': 'Female', 'Occupation': 'Engineer', 'Income': 85000}\n",
    "inp = preprocess_input(input_data)\n",
    "inp"
   ]
  },
  {
   "cell_type": "code",
   "execution_count": 75,
   "id": "13882bb8",
   "metadata": {},
   "outputs": [],
   "source": [
    "pred = best_rf.predict(inp)"
   ]
  },
  {
   "cell_type": "code",
   "execution_count": 76,
   "id": "0b2906b4",
   "metadata": {},
   "outputs": [
    {
     "data": {
      "text/plain": [
       "array([0], dtype=int64)"
      ]
     },
     "execution_count": 76,
     "metadata": {},
     "output_type": "execute_result"
    }
   ],
   "source": [
    "pred"
   ]
  },
  {
   "cell_type": "code",
   "execution_count": 77,
   "id": "c171b242",
   "metadata": {},
   "outputs": [
    {
     "data": {
      "text/plain": [
       "0"
      ]
     },
     "execution_count": 77,
     "metadata": {},
     "output_type": "execute_result"
    }
   ],
   "source": [
    "pred[0]"
   ]
  },
  {
   "cell_type": "code",
   "execution_count": 87,
   "id": "9fe07faa",
   "metadata": {},
   "outputs": [
    {
     "name": "stdout",
     "output_type": "stream",
     "text": [
      "Probability of No: 0.5058445220724027\n",
      "Probability of Yes: 0.49415547792759723\n"
     ]
    }
   ],
   "source": [
    "pred = best_rf.predict_proba(inp)\n",
    "prob_0 = pred[0][0]\n",
    "prob_1 = pred[0][1]\n",
    "print(\"Probability of No:\", prob_0)\n",
    "print(\"Probability of Yes:\", prob_1)"
   ]
  },
  {
   "cell_type": "code",
   "execution_count": null,
   "id": "87582893",
   "metadata": {},
   "outputs": [],
   "source": []
  }
 ],
 "metadata": {
  "kernelspec": {
   "display_name": "Python 3 (ipykernel)",
   "language": "python",
   "name": "python3"
  },
  "language_info": {
   "codemirror_mode": {
    "name": "ipython",
    "version": 3
   },
   "file_extension": ".py",
   "mimetype": "text/x-python",
   "name": "python",
   "nbconvert_exporter": "python",
   "pygments_lexer": "ipython3",
   "version": "3.11.4"
  }
 },
 "nbformat": 4,
 "nbformat_minor": 5
}
